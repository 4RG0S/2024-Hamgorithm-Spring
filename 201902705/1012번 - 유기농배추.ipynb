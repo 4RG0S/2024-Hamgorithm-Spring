{
 "cells": [
  {
   "cell_type": "code",
   "execution_count": 37,
   "metadata": {},
   "outputs": [],
   "source": [
    "from collections import deque\n",
    "def bfs(i,j):\n",
    "    queue = deque()\n",
    "    queue.append([i,j])\n",
    "    while(queue):\n",
    "        x, y = queue.popleft()\n",
    "        \n",
    "        for z in range(4):\n",
    "            x2 = x + dx[z]\n",
    "            y2 = y + dy[z]\n",
    "\n",
    "            if 0 <= x2 < M and 0 <= y2 < N and mat[y2][x2] == 1 and is_visited[y2][x2] == 0:\n",
    "                queue.append([x2,y2])\n",
    "                is_visited[y2][x2] = 1"
   ]
  },
  {
   "cell_type": "code",
   "execution_count": 40,
   "metadata": {},
   "outputs": [
    {
     "name": "stdout",
     "output_type": "stream",
     "text": [
      "0\n",
      "0\n"
     ]
    }
   ],
   "source": [
    "dx, dy = [0,0,-1,1], [1,-1,0,0]\n",
    "\n",
    "n = int(input())\n",
    "#n : 총 반복 회수\n",
    "for i in range(n):\n",
    "\n",
    "    # M : 괄호 N : 세로 K : 배추의 수\n",
    "    M, N, K = map(int, input().split())\n",
    "\n",
    "    # mat : 배추밭 / 일단은 0으로 초기화\n",
    "    mat = [[0 for z in range(M)] for i in range(N)]\n",
    "    # is_visited : 방문 여부 기록\n",
    "    is_visited = [[0 for z in range(M)] for i in range(N)]\n",
    "\n",
    "    #배추 채우기\n",
    "    for z in range(K):\n",
    "        input_y, input_x = map(int, input().split())\n",
    "        mat[input_x][input_y] = 1\n",
    "\n",
    "    count = 0\n",
    "    for r in range(N):\n",
    "        for c in range(M):\n",
    "            if is_visited[r][c] == 0 and mat[r][c] == 1:\n",
    "                bfs(c,r)\n",
    "                count = count + 1\n",
    "    print(count)\n"
   ]
  },
  {
   "cell_type": "code",
   "execution_count": null,
   "metadata": {},
   "outputs": [],
   "source": []
  }
 ],
 "metadata": {
  "kernelspec": {
   "display_name": "KW",
   "language": "python",
   "name": "kw"
  },
  "language_info": {
   "codemirror_mode": {
    "name": "ipython",
    "version": 3
   },
   "file_extension": ".py",
   "mimetype": "text/x-python",
   "name": "python",
   "nbconvert_exporter": "python",
   "pygments_lexer": "ipython3",
   "version": "3.11.4"
  }
 },
 "nbformat": 4,
 "nbformat_minor": 2
}
