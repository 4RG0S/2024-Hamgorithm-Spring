{
 "cells": [
  {
   "cell_type": "code",
   "execution_count": 90,
   "metadata": {},
   "outputs": [
    {
     "name": "stdout",
     "output_type": "stream",
     "text": [
      "15\n"
     ]
    }
   ],
   "source": [
    "import copy\n",
    "\n",
    "n = int(input())\n",
    "\n",
    "ls = list(map(int, input().split()))\n",
    "\n",
    "num = []\n",
    "\n",
    "num.append(min(ls[0], ls[5]))\n",
    "num.append(min(ls[1], ls[4]))\n",
    "num.append(min(ls[2], ls[3]))\n",
    "num.sort()\n",
    "\n",
    "def one():\n",
    "    sum = ((n-2)**2)*5 + (n-2)*4\n",
    "    return sum\n",
    "def two():\n",
    "    sum = (n-1)*4 + (n-2)*4\n",
    "    return sum\n",
    "def three():\n",
    "    return 4\n",
    "sum = 0\n",
    "\n",
    "if n == 1:\n",
    "    ls.sort()\n",
    "    for i in range(5):\n",
    "        sum = sum + ls[i]\n",
    "    print(sum)\n",
    "else:\n",
    "    sum = sum + one()*num[0]\n",
    "    sum = sum + two()*(num[0]+num[1])\n",
    "    sum = sum + three()*(num[0]+num[1]+num[2])\n",
    "    print(sum)"
   ]
  },
  {
   "cell_type": "markdown",
   "metadata": {},
   "source": [
    "## 1\n"
   ]
  }
 ],
 "metadata": {
  "kernelspec": {
   "display_name": "KW",
   "language": "python",
   "name": "python3"
  },
  "language_info": {
   "codemirror_mode": {
    "name": "ipython",
    "version": 3
   },
   "file_extension": ".py",
   "mimetype": "text/x-python",
   "name": "python",
   "nbconvert_exporter": "python",
   "pygments_lexer": "ipython3",
   "version": "3.11.4"
  }
 },
 "nbformat": 4,
 "nbformat_minor": 2
}
