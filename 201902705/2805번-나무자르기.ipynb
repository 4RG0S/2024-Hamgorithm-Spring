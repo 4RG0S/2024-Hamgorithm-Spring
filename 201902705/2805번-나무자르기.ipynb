{
 "cells": [
  {
   "cell_type": "code",
   "execution_count": 160,
   "metadata": {},
   "outputs": [
    {
     "name": "stdout",
     "output_type": "stream",
     "text": [
      "22\n",
      "0\n"
     ]
    }
   ],
   "source": [
    "# from collections\n",
    "\n",
    "n, m = map(int, input().split())\n",
    "trees = list(map(int, input().split()))\n",
    "trees.append(0)\n",
    "trees.sort()\n",
    "def find_mid(first, last):\n",
    "    mid = int((last + first) / 2)\n",
    "    return mid\n",
    "\n",
    "def calc_sum(mid):\n",
    "    sum = 0\n",
    "    for i in trees:\n",
    "        sum = sum + max((i-trees[mid]), 0)\n",
    "    return sum\n",
    "\n",
    "is_visited = [0 for i in range(len(trees))]\n",
    "head = 0\n",
    "tail = len(trees) - 1\n",
    "\n",
    "mid = find_mid(head, tail) # 2\n",
    "sum = calc_sum(mid)\n",
    "old_mid = -1\n",
    "#나무가 부족하면\n",
    "while(mid != old_mid):\n",
    "    old_mid = mid\n",
    "    if(sum < m):\n",
    "        is_visited[mid] = -1\n",
    "        tail = (head + tail)/2 # 2\n",
    "        mid = find_mid(head, tail) # 1\n",
    "        sum = calc_sum(mid)\n",
    "    elif(sum > m):\n",
    "        is_visited[mid] = 1\n",
    "        head = (head + tail)/2 # 1\n",
    "        mid = find_mid(head, tail)\n",
    "        sum = calc_sum(mid)\n",
    "    else:\n",
    "        print(trees[mid])\n",
    "        exit()\n",
    "    \n",
    "\n",
    "idx = 0\n",
    "for i in range(len(trees)):\n",
    "    if is_visited[i] == -1:\n",
    "        idx = i\n",
    "def calc_sum2(val):\n",
    "    sum = 0\n",
    "    for i in trees:\n",
    "        sum = sum + max((i-val), 0)\n",
    "    return sum\n",
    "head = trees[idx - 1]\n",
    "tail = trees[idx]\n",
    "mid = int((tail + head) / 2)\n",
    "sum = calc_sum2(mid)\n",
    "\n",
    "\n",
    "while(mid != old_mid):\n",
    "    old_mid = mid\n",
    "    if(sum < m):\n",
    "        tail = mid # 33\n",
    "        mid = int((tail + head) / 2) # 1\n",
    "        sum = calc_sum2(mid)\n",
    "    elif(sum > m):\n",
    "        head = mid # 1\n",
    "        mid = int((tail + head) / 2)\n",
    "        sum = calc_sum2(mid)\n",
    "    else:\n",
    "        break\n",
    "print(mid)"
   ]
  },
  {
   "cell_type": "code",
   "execution_count": 7,
   "metadata": {},
   "outputs": [
    {
     "ename": "ValueError",
     "evalue": "not enough values to unpack (expected 2, got 0)",
     "output_type": "error",
     "traceback": [
      "\u001b[1;31m---------------------------------------------------------------------------\u001b[0m",
      "\u001b[1;31mValueError\u001b[0m                                Traceback (most recent call last)",
      "\u001b[1;32mc:\\Users\\A\\Documents\\GitHub\\2024-Hamgorithm-Spring\\201902705\\2805번-나무자르기.ipynb Cell 2\u001b[0m line \u001b[0;36m1\n\u001b[1;32m----> <a href='vscode-notebook-cell:/c%3A/Users/A/Documents/GitHub/2024-Hamgorithm-Spring/201902705/2805%EB%B2%88-%EB%82%98%EB%AC%B4%EC%9E%90%EB%A5%B4%EA%B8%B0.ipynb#X50sZmlsZQ%3D%3D?line=0'>1</a>\u001b[0m n, m \u001b[39m=\u001b[39m \u001b[39mmap\u001b[39m(\u001b[39mint\u001b[39m, \u001b[39minput\u001b[39m()\u001b[39m.\u001b[39msplit())\n\u001b[0;32m      <a href='vscode-notebook-cell:/c%3A/Users/A/Documents/GitHub/2024-Hamgorithm-Spring/201902705/2805%EB%B2%88-%EB%82%98%EB%AC%B4%EC%9E%90%EB%A5%B4%EA%B8%B0.ipynb#X50sZmlsZQ%3D%3D?line=1'>2</a>\u001b[0m trees \u001b[39m=\u001b[39m \u001b[39mlist\u001b[39m(\u001b[39mmap\u001b[39m(\u001b[39mint\u001b[39m, \u001b[39minput\u001b[39m()\u001b[39m.\u001b[39msplit()))\n\u001b[0;32m      <a href='vscode-notebook-cell:/c%3A/Users/A/Documents/GitHub/2024-Hamgorithm-Spring/201902705/2805%EB%B2%88-%EB%82%98%EB%AC%B4%EC%9E%90%EB%A5%B4%EA%B8%B0.ipynb#X50sZmlsZQ%3D%3D?line=2'>3</a>\u001b[0m trees\u001b[39m.\u001b[39msort()\n",
      "\u001b[1;31mValueError\u001b[0m: not enough values to unpack (expected 2, got 0)"
     ]
    }
   ],
   "source": [
    "n, m = map(int, input().split())\n",
    "trees = list(map(int, input().split()))\n",
    "trees.sort()\n",
    "trees.append(0)\n",
    "\n",
    "# def find_mid(first, last):\n",
    "#     mid = (last + first) // 2\n",
    "#     return mid\n",
    "\n",
    "def calc_sum2(mid):\n",
    "    sum = 0\n",
    "    for i in trees:\n",
    "        sum = sum + max((i-mid), 0)\n",
    "    return sum\n",
    "\n",
    "head = trees[0]\n",
    "tail = trees[-1]\n",
    "ans = 0\n",
    "\n",
    "while(head <= tail):\n",
    "    mid = (tail + head) // 2\n",
    "    sum = calc_sum2(mid)\n",
    "\n",
    "    #더 잘라야할 때 - tail를 작게한다. - 미드를 작게함\n",
    "    if(sum < m):    \n",
    "        tail = mid - 1\n",
    "\n",
    "    #덜 잘라도 될 때, 일단 ans에 넣고 head를 늘려봄 - 미드를 크게함\n",
    "    elif(sum >= m):\n",
    "        head = mid + 1\n",
    "        ans = mid\n",
    "\n",
    "    else:\n",
    "        ans = mid\n",
    "    \n",
    "print(ans)"
   ]
  },
  {
   "cell_type": "markdown",
   "metadata": {},
   "source": []
  },
  {
   "cell_type": "markdown",
   "metadata": {},
   "source": [
    "0 1 2 3 4 5 6 7"
   ]
  }
 ],
 "metadata": {
  "kernelspec": {
   "display_name": "KW",
   "language": "python",
   "name": "kw"
  },
  "language_info": {
   "codemirror_mode": {
    "name": "ipython",
    "version": 3
   },
   "file_extension": ".py",
   "mimetype": "text/x-python",
   "name": "python",
   "nbconvert_exporter": "python",
   "pygments_lexer": "ipython3",
   "version": "3.11.4"
  }
 },
 "nbformat": 4,
 "nbformat_minor": 2
}
