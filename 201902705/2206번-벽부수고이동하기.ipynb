{
 "cells": [
  {
   "cell_type": "code",
   "execution_count": 171,
   "metadata": {},
   "outputs": [
    {
     "name": "stdout",
     "output_type": "stream",
     "text": [
      "15\n"
     ]
    }
   ],
   "source": [
    "from collections import deque\n",
    "\n",
    "#세로, 가로\n",
    "m, n = map(int, input().split())\n",
    "\n",
    "#빈 리스트 생성\n",
    "mat = [0 for z in range(m)]\n",
    "\n",
    "# 리스트 채우기\n",
    "for i in range(m):\n",
    "    mat[i] = list(map(int, input().rstrip()))\n",
    "\n",
    "queue = deque()\n",
    "is_visited = [[[0] * 2 for _ in range(n)] for _ in range(m)]\n",
    "dx, dy = [0,0,-1,1], [1,-1,0,0]\n",
    "queue = deque()\n",
    "queue.append([0,0,0])\n",
    "is_visited[0][0][0] = 1\n",
    "\n",
    "def bfs():\n",
    "    while(queue):\n",
    "        x,y,z = queue.popleft()\n",
    "\n",
    "        if x == n-1 and y == m -1:\n",
    "            return is_visited[y][x][z]\n",
    "\n",
    "        for i in range(4):\n",
    "            xx = dx[i] + x\n",
    "            yy = dy[i] + y\n",
    "\n",
    "            if 0<= xx < n and 0<= yy < m:\n",
    "                #이동할 곳이 벽이 아님\n",
    "                if mat[yy][xx] == 0 and is_visited[yy][xx][z] == 0:\n",
    "                    is_visited[yy][xx][z] = is_visited[y][x][z]+1\n",
    "                    queue.append([xx,yy,z])\n",
    "                # 이동할 곳이 벽이고 아직 쿠폰 안씀\n",
    "                elif mat[yy][xx] == 1 and z == 0:\n",
    "                    is_visited[yy][xx][1] = is_visited[y][x][0]+1\n",
    "                    queue.append([xx,yy,1])\n",
    "    return -1\n",
    "print(bfs())"
   ]
  },
  {
   "cell_type": "code",
   "execution_count": 170,
   "metadata": {},
   "outputs": [
    {
     "data": {
      "text/plain": [
       "[[[1, 3], [0, 10], [9, 3], [8, 4], [0, 9], [0, 0]],\n",
       " [[2, 4], [0, 5], [0, 10], [7, 5], [8, 6], [0, 9]],\n",
       " [[3, 5], [4, 4], [5, 5], [6, 6], [0, 9], [0, 8]],\n",
       " [[0, 4], [0, 5], [0, 6], [0, 7], [0, 0], [0, 9]]]"
      ]
     },
     "execution_count": 170,
     "metadata": {},
     "output_type": "execute_result"
    }
   ],
   "source": [
    "is_visited"
   ]
  },
  {
   "cell_type": "code",
   "execution_count": null,
   "metadata": {},
   "outputs": [],
   "source": []
  }
 ],
 "metadata": {
  "kernelspec": {
   "display_name": "KW",
   "language": "python",
   "name": "kw"
  },
  "language_info": {
   "codemirror_mode": {
    "name": "ipython",
    "version": 3
   },
   "file_extension": ".py",
   "mimetype": "text/x-python",
   "name": "python",
   "nbconvert_exporter": "python",
   "pygments_lexer": "ipython3",
   "version": "3.11.4"
  }
 },
 "nbformat": 4,
 "nbformat_minor": 2
}
