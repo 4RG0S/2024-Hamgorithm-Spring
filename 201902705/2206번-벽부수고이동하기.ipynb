{
 "cells": [
  {
   "cell_type": "code",
   "execution_count": null,
   "metadata": {},
   "outputs": [],
   "source": [
    "from collections import deque\n",
    "\n",
    "#세로, 가로\n",
    "input_x, input_y = map(int, input().split())\n",
    "\n",
    "#빈 리스트 생성\n",
    "mat = [0 for z in range(input_y)]\n",
    "\n",
    "# 리스트 채우기\n",
    "for i in range(input_y):\n",
    "    mat[i] = list(map(int, input().split()))\n",
    "\n",
    "queue = deque()"
   ]
  },
  {
   "cell_type": "code",
   "execution_count": null,
   "metadata": {},
   "outputs": [],
   "source": []
  }
 ],
 "metadata": {
  "language_info": {
   "name": "python"
  }
 },
 "nbformat": 4,
 "nbformat_minor": 2
}
