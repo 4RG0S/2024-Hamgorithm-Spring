{
 "cells": [
  {
   "cell_type": "code",
   "execution_count": 1,
   "metadata": {},
   "outputs": [
    {
     "name": "stdout",
     "output_type": "stream",
     "text": [
      "2 0\n"
     ]
    }
   ],
   "source": [
    "import copy\n",
    "N,M,B = map(int, input().split())\n",
    "\n",
    "ground = []\n",
    "for i in range(N):\n",
    "    ground.append(list(map(int, input().split())))\n",
    "\n",
    "stored = B\n",
    "highest = max(map(max, ground))\n",
    "lowest = min(map(min, ground))\n",
    "#높이를 줬을 때 그 높이에 맞게 자르는 블럭 계산\n",
    "def cut(low):\n",
    "    sum = 0\n",
    "    for row in ground:\n",
    "        for block in row:\n",
    "            sum = sum + max(0,block - low)\n",
    "    return sum\n",
    "\n",
    "\n",
    "#높이를 줬을 때 그 높이에 맞게 쌓는 블럭 계산\n",
    "def add(hi):\n",
    "    sum = 0\n",
    "    for row in ground:\n",
    "        for block in row:\n",
    "            sum = sum + max(0,hi - block)\n",
    "    return sum\n",
    "def forTar(tar):\n",
    "    #블록 깎기\n",
    "    global stored\n",
    "    time_cut = 0\n",
    "    groundCopy = copy.deepcopy(ground)\n",
    "    for row in groundCopy:\n",
    "        for block in row:\n",
    "            if block > tar:\n",
    "                stored = stored + max(0, (block - tar))\n",
    "                time_cut = time_cut + 2*max(0, (block - tar))\n",
    "                block = tar\n",
    "    #가지고 있는 블록으로 다 채울 수 없을 떄\n",
    "    time_add = add(tar)\n",
    "    if time_add > stored:\n",
    "        return -1\n",
    "    else:\n",
    "        return time_cut + time_add\n",
    "tar = highest\n",
    "time = 100000\n",
    "\n",
    "time = forTar(tar)\n",
    "while(time < 0):\n",
    "    tar = tar - 1\n",
    "    time = forTar(tar)\n",
    "\n",
    "time_cut_more = forTar(tar - 1)\n",
    "\n",
    "while(time_cut_more < time):\n",
    "    time = time_cut_more\n",
    "    tar = tar - 1\n",
    "    time_cut_more = forTar(tar)\n",
    "    \n",
    "print(time, tar)"
   ]
  }
 ],
 "metadata": {
  "kernelspec": {
   "display_name": "KW",
   "language": "python",
   "name": "kw"
  },
  "language_info": {
   "codemirror_mode": {
    "name": "ipython",
    "version": 3
   },
   "file_extension": ".py",
   "mimetype": "text/x-python",
   "name": "python",
   "nbconvert_exporter": "python",
   "pygments_lexer": "ipython3",
   "version": "3.11.4"
  }
 },
 "nbformat": 4,
 "nbformat_minor": 2
}
