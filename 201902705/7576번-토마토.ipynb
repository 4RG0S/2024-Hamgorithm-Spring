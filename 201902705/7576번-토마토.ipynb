{
 "cells": [
  {
   "cell_type": "code",
   "execution_count": 27,
   "metadata": {},
   "outputs": [
    {
     "ename": "ValueError",
     "evalue": "not enough values to unpack (expected 2, got 0)",
     "output_type": "error",
     "traceback": [
      "\u001b[1;31m---------------------------------------------------------------------------\u001b[0m",
      "\u001b[1;31mValueError\u001b[0m                                Traceback (most recent call last)",
      "\u001b[1;32mk:\\BaekJoon\\B7576.ipynb Cell 1\u001b[0m line \u001b[0;36m3\n\u001b[0;32m      <a href='vscode-notebook-cell:/k%3A/BaekJoon/B7576.ipynb#W0sZmlsZQ%3D%3D?line=0'>1</a>\u001b[0m \u001b[39mimport\u001b[39;00m \u001b[39mcopy\u001b[39;00m\n\u001b[1;32m----> <a href='vscode-notebook-cell:/k%3A/BaekJoon/B7576.ipynb#W0sZmlsZQ%3D%3D?line=2'>3</a>\u001b[0m x, y \u001b[39m=\u001b[39m \u001b[39mmap\u001b[39m(\u001b[39mint\u001b[39m, \u001b[39minput\u001b[39m()\u001b[39m.\u001b[39msplit())\n\u001b[0;32m      <a href='vscode-notebook-cell:/k%3A/BaekJoon/B7576.ipynb#W0sZmlsZQ%3D%3D?line=4'>5</a>\u001b[0m \u001b[39m#빈 리스트 생성\u001b[39;00m\n\u001b[0;32m      <a href='vscode-notebook-cell:/k%3A/BaekJoon/B7576.ipynb#W0sZmlsZQ%3D%3D?line=5'>6</a>\u001b[0m myList \u001b[39m=\u001b[39m [\u001b[39m0\u001b[39m \u001b[39mfor\u001b[39;00m z \u001b[39min\u001b[39;00m \u001b[39mrange\u001b[39m(y)]\n",
      "\u001b[1;31mValueError\u001b[0m: not enough values to unpack (expected 2, got 0)"
     ]
    }
   ],
   "source": [
    "import copy\n",
    "\n",
    "x, y = map(int, input().split())\n",
    "\n",
    "#빈 리스트 생성\n",
    "myList = [0 for z in range(y)]\n",
    "\n",
    "\n",
    "for i in range(y):\n",
    "    myList[i] = list(map(int, input().split()))\n",
    "\n",
    "myList2 = copy.deepcopy(myList)"
   ]
  },
  {
   "cell_type": "code",
   "execution_count": 22,
   "metadata": {},
   "outputs": [],
   "source": [
    "def oneCycle():\n",
    "    for i in range(x):\n",
    "        for a in range(y):\n",
    "            tar = myList[a][i]\n",
    "            if(tar == 1):\n",
    "                #오른쪽 검사\n",
    "                if(i != x-1):\n",
    "                    if(myList[a][i+1] != -1):\n",
    "                        myList2[a][i+1] = 5\n",
    "                if(i != 0):\n",
    "                    if( myList[a][i-1] != -1):\n",
    "                        myList2[a][i-1] = 5\n",
    "                if(a != 0):\n",
    "                    if(myList[a-1][i] != -1):\n",
    "                        myList2[a-1][i] = 5\n",
    "                if(a != y-1):\n",
    "                    if(myList[a+1][i] != -1):\n",
    "                        myList2[a+1][i] = 5\n",
    "\n",
    "    for i in range(x):\n",
    "        for a in range(y):\n",
    "            if(myList2[a][i] == 5):\n",
    "                myList[a][i] = 1\n",
    "                myList2[a][i] = 1\n"
   ]
  },
  {
   "cell_type": "code",
   "execution_count": 23,
   "metadata": {},
   "outputs": [],
   "source": [
    "def check():\n",
    "    for i in range(x):\n",
    "        for a in range(y):\n",
    "            if(myList[a][i] == 0):\n",
    "                return False\n",
    "            \n",
    "    return True"
   ]
  },
  {
   "cell_type": "code",
   "execution_count": 26,
   "metadata": {},
   "outputs": [
    {
     "name": "stdout",
     "output_type": "stream",
     "text": [
      "-1\n"
     ]
    }
   ],
   "source": [
    "days = 0\n",
    "\n",
    "while(True):\n",
    "    oneCycle()\n",
    "    days = days+1\n",
    "    if(check() == True):\n",
    "        break\n",
    "    if(days == 2000):\n",
    "        days = -1\n",
    "        break\n",
    "\n",
    "print(days)"
   ]
  },
  {
   "cell_type": "code",
   "execution_count": null,
   "metadata": {},
   "outputs": [],
   "source": []
  }
 ],
 "metadata": {
  "kernelspec": {
   "display_name": "KW",
   "language": "python",
   "name": "kw"
  },
  "language_info": {
   "codemirror_mode": {
    "name": "ipython",
    "version": 3
   },
   "file_extension": ".py",
   "mimetype": "text/x-python",
   "name": "python",
   "nbconvert_exporter": "python",
   "pygments_lexer": "ipython3",
   "version": "3.11.4"
  }
 },
 "nbformat": 4,
 "nbformat_minor": 2
}
