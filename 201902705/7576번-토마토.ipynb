{
 "cells": [
  {
   "cell_type": "code",
   "execution_count": 1,
   "metadata": {},
   "outputs": [],
   "source": [
    "from collections import deque\n",
    "\n",
    "#가로, 세로\n",
    "input_x, input_y = map(int, input().split())\n",
    "\n",
    "#빈 리스트 생성\n",
    "tomato = [0 for z in range(input_y)]\n",
    "\n",
    "\n",
    "for i in range(input_y):\n",
    "    tomato[i] = list(map(int, input().split()))\n",
    "\n",
    "queue = deque()\n",
    "\n",
    "dx, dy = [-1,1,0,0],[0,0,-1,1]\n",
    "\n"
   ]
  },
  {
   "cell_type": "code",
   "execution_count": 2,
   "metadata": {},
   "outputs": [],
   "source": [
    "def ripeCheck():\n",
    "    for i in range(input_x):\n",
    "        for a in range(input_y):\n",
    "            if(tomato[a][i] == 1):\n",
    "                queue.append([i,a])"
   ]
  },
  {
   "cell_type": "code",
   "execution_count": 3,
   "metadata": {},
   "outputs": [],
   "source": [
    "def bfs():\n",
    "    while(queue):\n",
    "        x, y = queue.popleft()\n",
    "        for i in range(4):\n",
    "            x2 = x + dx[i]\n",
    "            y2 = y + dy[i]\n",
    "\n",
    "            if 0 <= x2 < input_x and 0 <= y2 < input_y and tomato[y2][x2] == 0:\n",
    "                tomato[y2][x2] = tomato[y][x] + 1\n",
    "                queue.append((x2, y2))"
   ]
  },
  {
   "cell_type": "code",
   "execution_count": 4,
   "metadata": {},
   "outputs": [
    {
     "name": "stdout",
     "output_type": "stream",
     "text": [
      "8\n"
     ]
    }
   ],
   "source": [
    "ripeCheck()\n",
    "bfs()\n",
    "\n",
    "day = 0\n",
    "\n",
    "for row in tomato:\n",
    "    for i in row:\n",
    "        if i == 0:\n",
    "            print(-1)\n",
    "            exit()\n",
    "        day = max(day, i)\n",
    "\n",
    "print(day - 1)\n"
   ]
  }
 ],
 "metadata": {
  "kernelspec": {
   "display_name": "KW",
   "language": "python",
   "name": "kw"
  },
  "language_info": {
   "codemirror_mode": {
    "name": "ipython",
    "version": 3
   },
   "file_extension": ".py",
   "mimetype": "text/x-python",
   "name": "python",
   "nbconvert_exporter": "python",
   "pygments_lexer": "ipython3",
   "version": "3.11.4"
  }
 },
 "nbformat": 4,
 "nbformat_minor": 2
}
