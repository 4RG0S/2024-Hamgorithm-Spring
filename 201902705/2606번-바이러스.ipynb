{
 "cells": [
  {
   "cell_type": "code",
   "execution_count": 29,
   "metadata": {},
   "outputs": [],
   "source": [
    "from collections import deque\n",
    "\n",
    "n = int(input())\n",
    "m = int(input())\n",
    "\n",
    "mat = [[0 for i in range(n)] for j in range(n)]\n",
    "\n",
    "is_visited = [0 for i in range(n)]\n",
    "is_visited[0] = 1\n",
    "queue = deque()\n",
    "queue.append(0)\n",
    "\n",
    "for i in range(m):\n",
    "    x, y = map(int, input().split())\n",
    "    mat[x - 1][y - 1] = 1\n",
    "    mat[y - 1][x - 1] = 1\n",
    "def bfs():\n",
    "    while(queue):\n",
    "        x = queue.popleft()\n",
    "        for i in range(n):\n",
    "            if mat[x][i] == 1 and is_visited[i] == 0:\n",
    "                is_visited[i] = 1\n",
    "                queue.append(i)\n",
    "\n",
    "bfs()\n",
    "count = 0\n",
    "for i in range(n):\n",
    "    if is_visited[i] == 1:\n",
    "        count = count+1\n",
    "print(count - 1)"
   ]
  },
  {
   "cell_type": "code",
   "execution_count": null,
   "metadata": {},
   "outputs": [],
   "source": []
  }
 ],
 "metadata": {
  "kernelspec": {
   "display_name": "KW",
   "language": "python",
   "name": "kw"
  },
  "language_info": {
   "codemirror_mode": {
    "name": "ipython",
    "version": 3
   },
   "file_extension": ".py",
   "mimetype": "text/x-python",
   "name": "python",
   "nbconvert_exporter": "python",
   "pygments_lexer": "ipython3",
   "version": "3.11.4"
  }
 },
 "nbformat": 4,
 "nbformat_minor": 2
}
