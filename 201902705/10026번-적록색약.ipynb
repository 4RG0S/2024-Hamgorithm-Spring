{
 "cells": [
  {
   "cell_type": "code",
   "execution_count": 21,
   "metadata": {},
   "outputs": [],
   "source": [
    "import sys\n",
    "from collections import deque\n",
    "\n",
    "input_x = int(input())\n",
    "\n",
    "#빈 리스트 생성\n",
    "mat = [0 for z in range(input_x)]\n",
    "\n",
    "# 리스트 채우기\n",
    "for i in range(input_x):\n",
    "    mat[i] = list(input().rstrip())\n",
    "\n",
    "queue = deque()\n",
    "\n",
    "is_visted = [0 for z in range(input_x)]\n",
    "\n",
    "#파이썬에서 스트링으로 채운 메트릭을 숫자로 바꾸면 자료형이 바뀔까?"
   ]
  },
  {
   "cell_type": "code",
   "execution_count": 15,
   "metadata": {},
   "outputs": [
    {
     "data": {
      "text/plain": [
       "0"
      ]
     },
     "execution_count": 15,
     "metadata": {},
     "output_type": "execute_result"
    }
   ],
   "source": [
    "mat[0]"
   ]
  },
  {
   "cell_type": "code",
   "execution_count": null,
   "metadata": {},
   "outputs": [],
   "source": [
    "dx, dy = [-1,1,0,0],[0,0,1,-1]\n",
    "\n",
    "queue.append([0,0])\n",
    "\n",
    "def bfs():\n",
    "    while(queue):\n",
    "        x,y = queue.popleft\n",
    "        for i in range(4):\n",
    "            x2 = dx[i] + x\n",
    "            y2 = dy[i] + y\n",
    "\n",
    "            if 0 <= x2 < input_x and 0 <= y2 < input_x and mat[y2, x2] == mat[y,x]:\n",
    "                "
   ]
  }
 ],
 "metadata": {
  "kernelspec": {
   "display_name": "KW",
   "language": "python",
   "name": "kw"
  },
  "language_info": {
   "codemirror_mode": {
    "name": "ipython",
    "version": 3
   },
   "file_extension": ".py",
   "mimetype": "text/x-python",
   "name": "python",
   "nbconvert_exporter": "python",
   "pygments_lexer": "ipython3",
   "version": "3.11.4"
  }
 },
 "nbformat": 4,
 "nbformat_minor": 2
}
