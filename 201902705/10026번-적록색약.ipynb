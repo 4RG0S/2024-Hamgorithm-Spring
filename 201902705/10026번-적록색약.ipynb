{
 "cells": [
  {
   "cell_type": "code",
   "execution_count": 1,
   "metadata": {},
   "outputs": [
    {
     "name": "stdout",
     "output_type": "stream",
     "text": [
      "4 3\n"
     ]
    }
   ],
   "source": [
    "import sys\n",
    "from collections import deque\n",
    "\n",
    "input_x = int(input())\n",
    "\n",
    "#빈 리스트 생성\n",
    "mat = [0 for z in range(input_x)]\n",
    "\n",
    "# 리스트 채우기\n",
    "for i in range(input_x):\n",
    "    mat[i] = list(input().rstrip())\n",
    "\n",
    "queue = deque()\n",
    "\n",
    "#파이썬에서 스트링으로 채운 메트릭을 숫자로 바꾸면 자료형이 바뀔까?\n",
    "is_visted = [[0 for z in range(input_x)] for i in range(input_x)]\n",
    "is_visted[0][0] = 1\n",
    "\n",
    "dx, dy = [-1,1,0,0],[0,0,1,-1]\n",
    "queue.append([0,0])\n",
    "\n",
    "count = 0\n",
    "def bfs():\n",
    "    while(queue):\n",
    "        y,x = queue.popleft()\n",
    "        for i in range(4):\n",
    "            x2 = dx[i] + x\n",
    "            y2 = dy[i] + y\n",
    "\n",
    "            if 0 <= x2 < input_x and 0 <= y2 < input_x and mat[y2][x2] == mat[y][x] and is_visted[y2][x2] == 0:\n",
    "                queue.append([y2,x2])\n",
    "                is_visted[y2][x2] = 1\n",
    "\n",
    "def find():\n",
    "    queue2 = deque()\n",
    "    for i in range(input_x):\n",
    "        for j in range(input_x):\n",
    "            if is_visted[i][j] == 0:\n",
    "                queue2.append([i,j])\n",
    "                break\n",
    "    if(len(queue2) != 0):\n",
    "        queue.append(queue2.popleft())\n",
    "\n",
    "def matChange():\n",
    "    for i in range(input_x):\n",
    "        for j in range(input_x):\n",
    "            if mat[i][j] == 'G':\n",
    "                mat[i][j] = 'R'\n",
    "while(True):\n",
    "    \n",
    "    bfs()\n",
    "    count = count + 1\n",
    "    find()\n",
    "    if len(queue) == 0:\n",
    "        break\n",
    "\n",
    "ans = count\n",
    "\n",
    "\n",
    "count = 0\n",
    "is_visted = [[0 for z in range(input_x)] for i in range(input_x)]\n",
    "is_visted[0][0] = 1\n",
    "queue.append([0,0])\n",
    "matChange()\n",
    "\n",
    "\n",
    "while(True):\n",
    "    \n",
    "    bfs()\n",
    "    count = count + 1\n",
    "    find()\n",
    "    if len(queue) == 0:\n",
    "        break\n",
    "\n",
    "print(ans, count, sep = ' ')"
   ]
  },
  {
   "cell_type": "code",
   "execution_count": null,
   "metadata": {},
   "outputs": [],
   "source": []
  }
 ],
 "metadata": {
  "kernelspec": {
   "display_name": "KW",
   "language": "python",
   "name": "kw"
  },
  "language_info": {
   "codemirror_mode": {
    "name": "ipython",
    "version": 3
   },
   "file_extension": ".py",
   "mimetype": "text/x-python",
   "name": "python",
   "nbconvert_exporter": "python",
   "pygments_lexer": "ipython3",
   "version": "3.11.4"
  }
 },
 "nbformat": 4,
 "nbformat_minor": 2
}
