{
 "cells": [
  {
   "cell_type": "code",
   "execution_count": 56,
   "metadata": {},
   "outputs": [],
   "source": [
    "from collections import deque\n",
    "m,n = map(int, input().split())\n",
    "mat = ['' for _ in range(n)]\n",
    "\n",
    "for i in range(n):\n",
    "    mat[i] = list(input().rstrip())\n",
    "dy, dx = [0,0,-1,1],[-1,1,0,0]\n",
    "queue = deque()\n",
    "def bfs(y,x,a):\n",
    "    queue = deque()\n",
    "    queue.append((x,y))\n",
    "    mat[y][x] = -1\n",
    "    cnt = 1\n",
    "    while queue:\n",
    "        x,y = queue.popleft()\n",
    "        \n",
    "        for i in range(4):\n",
    "            xx = dx[i] + x\n",
    "            yy = dy[i] + y\n",
    "\n",
    "            if 0 <= xx < m and 0 <= yy < n:\n",
    "                if mat[yy][xx] == a:\n",
    "                    mat[yy][xx] = -1\n",
    "                    queue.append((xx,yy))\n",
    "                    cnt += 1\n",
    "    return cnt * cnt\n",
    "scoreB = 0\n",
    "scoreW = 0\n",
    "for i in range(n):\n",
    "    for j in range(m):\n",
    "        if mat[i][j] == 'W':\n",
    "            scoreW += bfs(i,j,\"W\")\n",
    "        if mat[i][j] == 'B':\n",
    "            scoreB += bfs(i,j,\"B\")\n",
    "print(scoreW, scoreB)"
   ]
  },
  {
   "cell_type": "code",
   "execution_count": null,
   "metadata": {},
   "outputs": [],
   "source": []
  }
 ],
 "metadata": {
  "kernelspec": {
   "display_name": "KW",
   "language": "python",
   "name": "python3"
  },
  "language_info": {
   "codemirror_mode": {
    "name": "ipython",
    "version": 3
   },
   "file_extension": ".py",
   "mimetype": "text/x-python",
   "name": "python",
   "nbconvert_exporter": "python",
   "pygments_lexer": "ipython3",
   "version": "3.11.4"
  }
 },
 "nbformat": 4,
 "nbformat_minor": 2
}
