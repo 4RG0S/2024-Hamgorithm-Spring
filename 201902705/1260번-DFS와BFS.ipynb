{
 "cells": [
  {
   "cell_type": "code",
   "execution_count": 33,
   "metadata": {},
   "outputs": [
    {
     "name": "stdout",
     "output_type": "stream",
     "text": [
      "3 1 2 5 4 \n",
      "3 1 4 2 5 "
     ]
    }
   ],
   "source": [
    "from collections import deque\n",
    "\n",
    "n,m,v = map(int, input().split())\n",
    "\n",
    "mat = [[0 for z in range(n)] for i in range(n)]\n",
    "for i in range(m):\n",
    "    a, b = map(int, input().split())\n",
    "    mat[a-1][b-1] = 1\n",
    "    mat[b-1][a-1] = 1\n",
    "def bfs():\n",
    "    is_visited = [0 for x in range(n)]\n",
    "    queue = deque()\n",
    "    is_visited[v-1] = 1\n",
    "    queue.append(v-1)\n",
    "\n",
    "    while(queue):\n",
    "        a = queue.popleft()\n",
    "        print(a + 1, end = ' ')\n",
    "\n",
    "        for i in range(n):\n",
    "            if mat[a][i] == 1 and is_visited[i] == 0:\n",
    "                queue.append(i)\n",
    "                is_visited[i] = 1\n",
    "is_visited = [0 for x in range(n)]\n",
    "\n",
    "def dfs(v):\n",
    "    is_visited[v-1] = 1\n",
    "    print(v, end = ' ')\n",
    "    for i in range(n):\n",
    "        if mat[v-1][i] == 1 and is_visited[i] == 0:\n",
    "            dfs(i+1)\n",
    "dfs(v)\n",
    "print()\n",
    "bfs()"
   ]
  },
  {
   "cell_type": "code",
   "execution_count": null,
   "metadata": {},
   "outputs": [],
   "source": []
  }
 ],
 "metadata": {
  "kernelspec": {
   "display_name": "KW",
   "language": "python",
   "name": "kw"
  },
  "language_info": {
   "codemirror_mode": {
    "name": "ipython",
    "version": 3
   },
   "file_extension": ".py",
   "mimetype": "text/x-python",
   "name": "python",
   "nbconvert_exporter": "python",
   "pygments_lexer": "ipython3",
   "version": "3.11.4"
  }
 },
 "nbformat": 4,
 "nbformat_minor": 2
}
