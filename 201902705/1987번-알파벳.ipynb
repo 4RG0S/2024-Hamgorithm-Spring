{
 "cells": [
  {
   "cell_type": "code",
   "execution_count": 60,
   "metadata": {},
   "outputs": [
    {
     "name": "stdout",
     "output_type": "stream",
     "text": [
      "0 0 1\n",
      "1 0 2\n",
      "1 1 3\n",
      "0 1 4\n",
      "0 1 2\n",
      "1 1 3\n",
      "2 1 4\n",
      "2 2 5\n",
      "3 2 6\n",
      "4 2 7\n",
      "4 1 8\n",
      "3 3 7\n",
      "2 3 8\n",
      "1 3 9\n",
      "2 3 6\n",
      "3 3 7\n",
      "3 2 8\n",
      "1 3 7\n",
      "0 3 8\n",
      "0 4 9\n",
      "1 4 8\n",
      "0 4 9\n",
      "1 2 4\n",
      "2 2 5\n",
      "3 2 6\n",
      "4 2 7\n",
      "4 1 8\n",
      "3 3 7\n",
      "2 3 8\n",
      "1 3 9\n",
      "2 3 6\n",
      "3 3 7\n",
      "3 2 8\n",
      "1 3 7\n",
      "0 3 8\n",
      "0 4 9\n",
      "1 4 8\n",
      "0 4 9\n",
      "1 3 5\n",
      "2 3 6\n",
      "3 3 7\n",
      "3 2 8\n",
      "2 2 9\n",
      "2 2 7\n",
      "3 2 8\n",
      "4 2 9\n",
      "4 1 10\n",
      "3 3 9\n",
      "0 3 6\n",
      "0 4 7\n",
      "1 4 6\n",
      "0 4 7\n",
      "1 0 4\n",
      "0 2 3\n",
      "0 3 4\n",
      "1 3 5\n",
      "2 3 6\n",
      "2 2 7\n",
      "3 2 8\n",
      "0 4 5\n",
      "10\n"
     ]
    }
   ],
   "source": [
    "n,m = map(int, input().split())\n",
    "\n",
    "mat = [[' ' for i in range(m)] for z in range(n)]\n",
    "\n",
    "for i in range(n):\n",
    "    mat[i] = list(input().rstrip())\n",
    "dx, dy = [0,0,1,-1], [1,-1,0,0]\n",
    "ans = 0\n",
    "\n",
    "visited = [0 for x in range(26)]\n",
    "\n",
    "def dfs(r,c,count):\n",
    "    global ans\n",
    "    # print(r, c, count)\n",
    "    ans = max(ans, count)\n",
    "    X = mat[r][c]\n",
    "    visited[ord(X)-65] = 1\n",
    "\n",
    "    for i in range(4):\n",
    "        xx = dx[i] + c\n",
    "        yy = dy[i] + r\n",
    "\n",
    "        if 0 <= xx < m and 0 <= yy < n:\n",
    "            X = mat[yy][xx]\n",
    "            if visited[ord(X)-65] == 0:\n",
    "                dfs(yy,xx,count + 1)\n",
    "                visited[ord(X) - 65] = 0\n",
    "\n",
    "dfs(0,0,1)\n",
    "print(ans)"
   ]
  },
  {
   "cell_type": "code",
   "execution_count": null,
   "metadata": {},
   "outputs": [
    {
     "data": {
      "text/plain": [
       "[['H', 'F', 'D', 'F', 'F', 'B'],\n",
       " ['A', 'J', 'H', 'G', 'D', 'H'],\n",
       " ['D', 'G', 'A', 'G', 'E', 'H']]"
      ]
     },
     "execution_count": 56,
     "metadata": {},
     "output_type": "execute_result"
    }
   ],
   "source": [
    "mat"
   ]
  },
  {
   "cell_type": "code",
   "execution_count": null,
   "metadata": {},
   "outputs": [],
   "source": []
  }
 ],
 "metadata": {
  "kernelspec": {
   "display_name": "KW",
   "language": "python",
   "name": "kw"
  },
  "language_info": {
   "codemirror_mode": {
    "name": "ipython",
    "version": 3
   },
   "file_extension": ".py",
   "mimetype": "text/x-python",
   "name": "python",
   "nbconvert_exporter": "python",
   "pygments_lexer": "ipython3",
   "version": "3.11.4"
  }
 },
 "nbformat": 4,
 "nbformat_minor": 2
}
