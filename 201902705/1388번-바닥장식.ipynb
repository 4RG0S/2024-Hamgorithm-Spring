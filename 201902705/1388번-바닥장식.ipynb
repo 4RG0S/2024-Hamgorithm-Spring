{
 "cells": [
  {
   "cell_type": "code",
   "execution_count": 74,
   "metadata": {},
   "outputs": [],
   "source": [
    "\n",
    "\n",
    "n,m = map(int,input().split())\n",
    "\n",
    "mat = ['-' for _ in range(n)]\n",
    "\n",
    "for i in range(n):\n",
    "    mat[i] = list((input()))\n",
    "\n",
    "\n",
    "is_visited = [[0 for _ in range(m)]for _ in range(n)]\n",
    "\n",
    "count = 0\n",
    "\n",
    "def dfs(y,x,z):\n",
    "    global count\n",
    "    if y < n and x < m:\n",
    "\n",
    "        if mat[y][x] == '-' and z == 0:\n",
    "            is_visited[y][x] = 1\n",
    "            x += 1\n",
    "            dfs(y,x,0)\n",
    "\n",
    "        elif mat[y][x] == '|' and z == 1:\n",
    "            is_visited[y][x] = 1\n",
    "            y += 1\n",
    "            dfs(y,x,1)\n",
    "\n",
    "        else:\n",
    "            count = count + 1\n",
    "    else:\n",
    "        count = count + 1\n",
    "\n",
    "for i in range(n):\n",
    "    for j in range(m):\n",
    "        if is_visited[i][j] == 0:\n",
    "            if mat[i][j] == '-':\n",
    "                dfs(i,j,0)\n",
    "            else:\n",
    "                dfs(i,j,1)\n",
    "\n",
    "print(count)"
   ]
  }
 ],
 "metadata": {
  "kernelspec": {
   "display_name": "KW",
   "language": "python",
   "name": "python3"
  },
  "language_info": {
   "codemirror_mode": {
    "name": "ipython",
    "version": 3
   },
   "file_extension": ".py",
   "mimetype": "text/x-python",
   "name": "python",
   "nbconvert_exporter": "python",
   "pygments_lexer": "ipython3",
   "version": "3.11.4"
  }
 },
 "nbformat": 4,
 "nbformat_minor": 2
}
