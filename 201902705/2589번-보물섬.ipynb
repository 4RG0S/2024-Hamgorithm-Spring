{
 "cells": [
  {
   "cell_type": "code",
   "execution_count": 7,
   "metadata": {},
   "outputs": [
    {
     "ename": "IndexError",
     "evalue": "list assignment index out of range",
     "output_type": "error",
     "traceback": [
      "\u001b[1;31m---------------------------------------------------------------------------\u001b[0m",
      "\u001b[1;31mIndexError\u001b[0m                                Traceback (most recent call last)",
      "\u001b[1;32mc:\\Users\\A\\Documents\\GitHub\\2024-Hamgorithm-Spring\\201902705\\2589번-보물섬.ipynb Cell 1\u001b[0m line \u001b[0;36m8\n\u001b[0;32m      <a href='vscode-notebook-cell:/c%3A/Users/A/Documents/GitHub/2024-Hamgorithm-Spring/201902705/2589%EB%B2%88-%EB%B3%B4%EB%AC%BC%EC%84%AC.ipynb#W0sZmlsZQ%3D%3D?line=4'>5</a>\u001b[0m mat \u001b[39m=\u001b[39m [\u001b[39m0\u001b[39m \u001b[39mfor\u001b[39;00m i \u001b[39min\u001b[39;00m \u001b[39mrange\u001b[39m(input_y)]\n\u001b[0;32m      <a href='vscode-notebook-cell:/c%3A/Users/A/Documents/GitHub/2024-Hamgorithm-Spring/201902705/2589%EB%B2%88-%EB%B3%B4%EB%AC%BC%EC%84%AC.ipynb#W0sZmlsZQ%3D%3D?line=6'>7</a>\u001b[0m \u001b[39mfor\u001b[39;00m i \u001b[39min\u001b[39;00m \u001b[39mrange\u001b[39m(input_x):\n\u001b[1;32m----> <a href='vscode-notebook-cell:/c%3A/Users/A/Documents/GitHub/2024-Hamgorithm-Spring/201902705/2589%EB%B2%88-%EB%B3%B4%EB%AC%BC%EC%84%AC.ipynb#W0sZmlsZQ%3D%3D?line=7'>8</a>\u001b[0m     mat[i] \u001b[39m=\u001b[39m \u001b[39mlist\u001b[39m(\u001b[39minput\u001b[39m()\u001b[39m.\u001b[39mrstrip())\n",
      "\u001b[1;31mIndexError\u001b[0m: list assignment index out of range"
     ]
    }
   ],
   "source": [
    "from collections import deque\n",
    "\n",
    "input_y, input_x = map(int, input().split())\n",
    "\n",
    "mat = [0 for i in range(input_y)]\n",
    "\n",
    "for i in range(input_x):\n",
    "    mat[i] = list(input().rstrip())\n"
   ]
  },
  {
   "cell_type": "code",
   "execution_count": null,
   "metadata": {},
   "outputs": [],
   "source": [
    "dx, dy = [-1,1,0,0], [0,0,1,-1]\n"
   ]
  },
  {
   "cell_type": "code",
   "execution_count": 8,
   "metadata": {},
   "outputs": [
    {
     "data": {
      "text/plain": [
       "[['W', 'L', 'L', 'W', 'W', 'W', 'L'],\n",
       " ['L', 'L', 'L', 'W', 'L', 'L', 'L'],\n",
       " ['L', 'W', 'L', 'W', 'L', 'W', 'W'],\n",
       " ['L', 'W', 'L', 'W', 'L', 'L', 'L'],\n",
       " ['W', 'L', 'L', 'W', 'L', 'W', 'W']]"
      ]
     },
     "execution_count": 8,
     "metadata": {},
     "output_type": "execute_result"
    }
   ],
   "source": [
    "def bfs(i, j):\n",
    "    queue = deque()\n",
    "    queue.append([i, j])\n",
    "    distance = [[0 for c in range (input_y)] for r in range (input_x)]\n",
    "    distance[i][j] = 1\n",
    "\n",
    "    y, x = queue.popleft()\n",
    "\n",
    "    if 0 <= x < input_x and 0 <= y < input_y and mat[]"
   ]
  },
  {
   "cell_type": "code",
   "execution_count": null,
   "metadata": {},
   "outputs": [],
   "source": []
  }
 ],
 "metadata": {
  "kernelspec": {
   "display_name": "KW",
   "language": "python",
   "name": "kw"
  },
  "language_info": {
   "codemirror_mode": {
    "name": "ipython",
    "version": 3
   },
   "file_extension": ".py",
   "mimetype": "text/x-python",
   "name": "python",
   "nbconvert_exporter": "python",
   "pygments_lexer": "ipython3",
   "version": "3.11.4"
  }
 },
 "nbformat": 4,
 "nbformat_minor": 2
}
