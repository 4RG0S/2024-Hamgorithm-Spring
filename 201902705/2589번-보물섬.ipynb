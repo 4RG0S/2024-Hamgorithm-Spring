{
 "cells": [
  {
   "cell_type": "code",
   "execution_count": 1,
   "metadata": {},
   "outputs": [],
   "source": [
    "``import sys\n",
    "input = sys.stdin.readline``\n",
    "from collections import deque\n",
    "\n",
    "input_y, input_x = map(int, input().split())\n",
    "\n",
    "mat = [0 for i in range(input_y)]\n",
    "\n",
    "for i in range(input_y):\n",
    "    mat[i] = list(input().rstrip())\n",
    "\n",
    "dx, dy = [-1,1,0,0], [0,0,1,-1]\n"
   ]
  },
  {
   "cell_type": "code",
   "execution_count": null,
   "metadata": {},
   "outputs": [],
   "source": [
    "\n",
    "def bfs(i, c):\n",
    "    queue = deque()\n",
    "    queue.append([i, c])\n",
    "    distance = [[0 for r in range (input_x)] for c in range (input_y)]\n",
    "    distance[i][c] = 1\n",
    "    count = 0\n",
    "\n",
    "    while(queue):\n",
    "        y, x = queue.popleft()\n",
    "\n",
    "        for i in range(4):\n",
    "            x2 = dx[i] + x\n",
    "            y2 = dy[i] + y\n",
    "\n",
    "            if 0 <= x2 < input_x and 0 <= y2 < input_y and mat[y2][x2] == 'L' and distance[y2][x2] == 0:\n",
    "                distance[y2][x2] = distance[y][x] + 1\n",
    "                queue.append([y2, x2])\n",
    "                count = max(count, distance[y2][x2])\n",
    "    return count -1\n",
    "result = 0\n"
   ]
  },
  {
   "cell_type": "code",
   "execution_count": null,
   "metadata": {},
   "outputs": [],
   "source": [
    "\n",
    "\n",
    "for r in range(input_y):\n",
    "    for c in range(input_x):\n",
    "        if mat[r][c] == 'L':\n",
    "            if 0 <= r - 1 < input_y and 0 <= r + 1 < input_y:\n",
    "                if mat[r - 1][c] == 'L' and mat[r + 1][c] == 'L':\n",
    "                    continue\n",
    "            if 0 <= c - 1 < input_x and 0 <= c + 1 < input_x:\n",
    "                if mat[r][c - 1] == 'L' and mat[r][c + 1] == 'L':\n",
    "                    continue\n",
    "            result = max(result, bfs(r,c))\n",
    "print(result)"
   ]
  },
  {
   "cell_type": "markdown",
   "metadata": {},
   "source": []
  }
 ],
 "metadata": {
  "kernelspec": {
   "display_name": "KW",
   "language": "python",
   "name": "kw"
  },
  "language_info": {
   "codemirror_mode": {
    "name": "ipython",
    "version": 3
   },
   "file_extension": ".py",
   "mimetype": "text/x-python",
   "name": "python",
   "nbconvert_exporter": "python",
   "pygments_lexer": "ipython3",
   "version": "3.11.4"
  }
 },
 "nbformat": 4,
 "nbformat_minor": 2
}
