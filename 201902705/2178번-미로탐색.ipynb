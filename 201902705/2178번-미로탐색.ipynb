{
 "cells": [
  {
   "cell_type": "code",
   "execution_count": 5,
   "metadata": {},
   "outputs": [],
   "source": [
    "from collections import deque\n",
    "\n",
    "n, m = map(int, input().split())\n",
    "\n",
    "mat = [0 for i in range(n)]\n",
    "\n",
    "for i in range(n):\n",
    "    mat[i] = list(map(int, input().strip()))\n",
    "\n",
    "queue = deque()\n",
    "queue.append([0,0])\n",
    "dx = [-1,1,0,0]\n",
    "dy = [0,0,-1,1]\n",
    "mat[0][0] = 2\n",
    "\n",
    "def bfs():\n",
    "    while(queue):\n",
    "        x, y = queue.popleft()\n",
    "\n",
    "        for i in range(4):\n",
    "            xx = x + dx[i]\n",
    "            yy = y + dy[i]\n",
    "\n",
    "            if 0 <= xx < m and 0 <= yy < n and mat[yy][xx] == 1:\n",
    "                mat[yy][xx] = mat[y][x] + 1\n",
    "                queue.append([xx,yy])\n",
    "\n",
    "bfs()\n",
    "print(mat[n-1][m-1] - 1)"
   ]
  },
  {
   "cell_type": "code",
   "execution_count": null,
   "metadata": {},
   "outputs": [],
   "source": []
  }
 ],
 "metadata": {
  "kernelspec": {
   "display_name": "KW",
   "language": "python",
   "name": "kw"
  },
  "language_info": {
   "codemirror_mode": {
    "name": "ipython",
    "version": 3
   },
   "file_extension": ".py",
   "mimetype": "text/x-python",
   "name": "python",
   "nbconvert_exporter": "python",
   "pygments_lexer": "ipython3",
   "version": "3.11.4"
  }
 },
 "nbformat": 4,
 "nbformat_minor": 2
}
