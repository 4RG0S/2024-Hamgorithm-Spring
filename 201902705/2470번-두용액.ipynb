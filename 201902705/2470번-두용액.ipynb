{
 "cells": [
  {
   "cell_type": "code",
   "execution_count": 17,
   "metadata": {},
   "outputs": [
    {
     "name": "stdout",
     "output_type": "stream",
     "text": [
      "-99 98\n"
     ]
    }
   ],
   "source": [
    "N = int(input())\n",
    "ls = list(map(int, input().split()))\n",
    "ls.sort()\n",
    "left = 0\n",
    "right = N-1\n",
    "\n",
    "ans = abs(ls[left] + ls[right])\n",
    "final = [ls[left], ls[right]]\n",
    "\n",
    "while left < right:\n",
    "    left_val = ls[left]\n",
    "    right_val = ls[right]\n",
    "\n",
    "    sum = left_val + right_val\n",
    "  \n",
    "    if abs(sum) < ans:\n",
    "        ans = abs(sum)\n",
    "        final = [left_val, right_val]\n",
    "        if ans == 0:\n",
    "          break\n",
    "    if sum < 0:\n",
    "        left += 1\n",
    "    else:\n",
    "        right -= 1\n",
    "\n",
    "print(final[0], final[1])"
   ]
  }
 ],
 "metadata": {
  "kernelspec": {
   "display_name": "KW",
   "language": "python",
   "name": "kw"
  },
  "language_info": {
   "codemirror_mode": {
    "name": "ipython",
    "version": 3
   },
   "file_extension": ".py",
   "mimetype": "text/x-python",
   "name": "python",
   "nbconvert_exporter": "python",
   "pygments_lexer": "ipython3",
   "version": "3.11.4"
  }
 },
 "nbformat": 4,
 "nbformat_minor": 2
}
