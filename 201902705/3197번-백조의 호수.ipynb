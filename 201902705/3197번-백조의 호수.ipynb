{
 "cells": [
  {
   "cell_type": "code",
   "execution_count": 13,
   "metadata": {},
   "outputs": [],
   "source": [
    "import copy\n",
    "\n",
    "from collections import deque\n",
    "\n",
    "n,m = map(int, input().split())\n",
    "\n",
    "mat = [[0 for i in range(m)] for j in range(n)]\n",
    "\n",
    "lloc = []\n",
    "queue = deque()\n",
    "\n",
    "for i in range(n):\n",
    "    a = list(input())\n",
    "    count = 0\n",
    "    for j in a:\n",
    "        if j == 'L':\n",
    "            lloc.append([count, i])\n",
    "            mat[i][count] = -2\n",
    "        elif j == '.':\n",
    "            queue.append([count, i])\n",
    "        else:\n",
    "            mat[i][count] = -1\n",
    "        count = count + 1\n",
    "dx, dy = [-1,1,0,0], [0,0,1,-1]\n",
    "\n",
    "def bfs():\n",
    "    count = 0\n",
    "    while(queue):\n",
    "        x, y = queue.popleft()\n",
    "\n",
    "        for i in range(4):\n",
    "            xx = x + dx[i]\n",
    "            yy = y + dy[i]\n",
    "\n",
    "            if 0 <= xx < m and 0 <= yy < n and mat[yy][xx] == -1:\n",
    "                mat[yy][xx] = mat[y][x] + 1\n",
    "                count = max(count, mat[yy][xx])\n",
    "                queue.append([xx,yy])\n",
    "    return count\n"
   ]
  },
  {
   "cell_type": "code",
   "execution_count": 14,
   "metadata": {},
   "outputs": [
    {
     "data": {
      "text/plain": [
       "[[0, -2],\n",
       " [0, 0],\n",
       " [-1, -1],\n",
       " [-1, -1],\n",
       " [-1, -1],\n",
       " [-1, -1],\n",
       " [-1, -1],\n",
       " [-1, -1],\n",
       " [0, 0],\n",
       " [0, -2]]"
      ]
     },
     "execution_count": 14,
     "metadata": {},
     "output_type": "execute_result"
    }
   ],
   "source": [
    "mat"
   ]
  },
  {
   "cell_type": "code",
   "execution_count": null,
   "metadata": {},
   "outputs": [],
   "source": [
    "\n",
    "count = bfs()\n",
    "\n",
    "for i in range(count + 1):\n",
    "    queue = deque()\n",
    "    queue.append(lloc[0])\n",
    "\n",
    "    is_visited = [[0 for _ in range(m)] for _ in range(n)]\n",
    "    \n",
    "    while(queue):\n",
    "        x, y = queue.popleft()\n",
    "\n",
    "        for j in range(4):\n",
    "            xx = dx[j] + x\n",
    "            yy = dy[j] + y\n",
    "\n",
    "            if 0 <= xx < m and 0 <= yy < n and mat[yy][xx] <= i and is_visited[yy][xx] == 0:\n",
    "                is_visited[yy][xx] = 1\n",
    "                queue.append([xx,yy])\n",
    "\n",
    "    if is_visited[lloc[1][1]][lloc[1][0]] == 1:\n",
    "        print(i)\n",
    "        break\n"
   ]
  },
  {
   "cell_type": "code",
   "execution_count": 1,
   "metadata": {},
   "outputs": [
    {
     "data": {
      "text/plain": [
       "[[(0, 0), (0, 1)],\n",
       " [(1, 0), (1, 1)],\n",
       " [(2, 0), (2, 1)],\n",
       " [(3, 0), (3, 1)],\n",
       " [(4, 0), (4, 1)],\n",
       " [(5, 0), (5, 1)],\n",
       " [(6, 0), (6, 1)],\n",
       " [(7, 0), (7, 1)],\n",
       " [(8, 0), (8, 1)],\n",
       " [(9, 0), (9, 1)]]"
      ]
     },
     "execution_count": 1,
     "metadata": {},
     "output_type": "execute_result"
    }
   ],
   "source": [
    "root = [[(i, j) for j in range(2)] for i in range(10)]\n",
    "root"
   ]
  },
  {
   "cell_type": "code",
   "execution_count": 7,
   "metadata": {},
   "outputs": [
    {
     "data": {
      "text/plain": [
       "[[1, 0], [1, 9]]"
      ]
     },
     "execution_count": 7,
     "metadata": {},
     "output_type": "execute_result"
    }
   ],
   "source": [
    "lloc"
   ]
  },
  {
   "cell_type": "code",
   "execution_count": null,
   "metadata": {},
   "outputs": [],
   "source": [
    "v = swan[0] = lloc[0]"
   ]
  },
  {
   "cell_type": "code",
   "execution_count": 8,
   "metadata": {},
   "outputs": [
    {
     "data": {
      "text/plain": [
       "(1, 0)"
      ]
     },
     "execution_count": 8,
     "metadata": {},
     "output_type": "execute_result"
    }
   ],
   "source": [
    "root[lloc[0][0]][lloc[0][1]]"
   ]
  }
 ],
 "metadata": {
  "kernelspec": {
   "display_name": "KW",
   "language": "python",
   "name": "kw"
  },
  "language_info": {
   "codemirror_mode": {
    "name": "ipython",
    "version": 3
   },
   "file_extension": ".py",
   "mimetype": "text/x-python",
   "name": "python",
   "nbconvert_exporter": "python",
   "pygments_lexer": "ipython3",
   "version": "3.11.4"
  }
 },
 "nbformat": 4,
 "nbformat_minor": 2
}
